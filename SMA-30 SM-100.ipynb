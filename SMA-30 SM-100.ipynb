{
 "cells": [
  {
   "cell_type": "code",
   "execution_count": 20,
   "metadata": {},
   "outputs": [],
   "source": [
    "import pandas as pd\n",
    "import matplotlib \n",
    "import matplotlib.pyplot as plt\n",
    "import numpy as np\n",
    "import seaborn as sns "
   ]
  },
  {
   "cell_type": "code",
   "execution_count": 27,
   "metadata": {},
   "outputs": [],
   "source": [
    "Stock = 'AMZN'"
   ]
  },
  {
   "cell_type": "code",
   "execution_count": 6,
   "metadata": {},
   "outputs": [
    {
     "name": "stdout",
     "output_type": "stream",
     "text": [
      "Data Shape:  (251, 7)\n"
     ]
    }
   ],
   "source": [
    "df_stock = pd.read_csv(r\"AMZN.csv\", low_memory=False)\n",
    "print (\"Data Shape: \", df_stock.shape)"
   ]
  },
  {
   "cell_type": "markdown",
   "metadata": {},
   "source": [
    "#### Check for NaN Values"
   ]
  },
  {
   "cell_type": "code",
   "execution_count": 7,
   "metadata": {},
   "outputs": [
    {
     "data": {
      "text/plain": [
       "False"
      ]
     },
     "execution_count": 7,
     "metadata": {},
     "output_type": "execute_result"
    }
   ],
   "source": [
    "df_stock.isnull().values.any()"
   ]
  },
  {
   "cell_type": "markdown",
   "metadata": {},
   "source": [
    "#### Remove NaN Values if Applicable"
   ]
  },
  {
   "cell_type": "code",
   "execution_count": 8,
   "metadata": {},
   "outputs": [
    {
     "data": {
      "text/html": [
       "<div>\n",
       "<style scoped>\n",
       "    .dataframe tbody tr th:only-of-type {\n",
       "        vertical-align: middle;\n",
       "    }\n",
       "\n",
       "    .dataframe tbody tr th {\n",
       "        vertical-align: top;\n",
       "    }\n",
       "\n",
       "    .dataframe thead th {\n",
       "        text-align: right;\n",
       "    }\n",
       "</style>\n",
       "<table border=\"1\" class=\"dataframe\">\n",
       "  <thead>\n",
       "    <tr style=\"text-align: right;\">\n",
       "      <th></th>\n",
       "      <th>Date</th>\n",
       "      <th>Open</th>\n",
       "      <th>High</th>\n",
       "      <th>Low</th>\n",
       "      <th>Close</th>\n",
       "      <th>Adj Close</th>\n",
       "      <th>Volume</th>\n",
       "    </tr>\n",
       "  </thead>\n",
       "  <tbody>\n",
       "    <tr>\n",
       "      <th>0</th>\n",
       "      <td>2022-04-05</td>\n",
       "      <td>167.741501</td>\n",
       "      <td>168.110504</td>\n",
       "      <td>163.266006</td>\n",
       "      <td>164.054993</td>\n",
       "      <td>164.054993</td>\n",
       "      <td>53728000</td>\n",
       "    </tr>\n",
       "    <tr>\n",
       "      <th>1</th>\n",
       "      <td>2022-04-06</td>\n",
       "      <td>161.650497</td>\n",
       "      <td>162.199997</td>\n",
       "      <td>157.254501</td>\n",
       "      <td>158.755997</td>\n",
       "      <td>158.755997</td>\n",
       "      <td>79056000</td>\n",
       "    </tr>\n",
       "    <tr>\n",
       "      <th>2</th>\n",
       "      <td>2022-04-07</td>\n",
       "      <td>158.399994</td>\n",
       "      <td>160.078995</td>\n",
       "      <td>154.511505</td>\n",
       "      <td>157.784500</td>\n",
       "      <td>157.784500</td>\n",
       "      <td>68136000</td>\n",
       "    </tr>\n",
       "    <tr>\n",
       "      <th>3</th>\n",
       "      <td>2022-04-08</td>\n",
       "      <td>156.750000</td>\n",
       "      <td>157.368500</td>\n",
       "      <td>154.231003</td>\n",
       "      <td>154.460495</td>\n",
       "      <td>154.460495</td>\n",
       "      <td>46002000</td>\n",
       "    </tr>\n",
       "    <tr>\n",
       "      <th>4</th>\n",
       "      <td>2022-04-11</td>\n",
       "      <td>152.712997</td>\n",
       "      <td>154.136505</td>\n",
       "      <td>150.534500</td>\n",
       "      <td>151.121994</td>\n",
       "      <td>151.121994</td>\n",
       "      <td>52112000</td>\n",
       "    </tr>\n",
       "    <tr>\n",
       "      <th>...</th>\n",
       "      <td>...</td>\n",
       "      <td>...</td>\n",
       "      <td>...</td>\n",
       "      <td>...</td>\n",
       "      <td>...</td>\n",
       "      <td>...</td>\n",
       "      <td>...</td>\n",
       "    </tr>\n",
       "    <tr>\n",
       "      <th>246</th>\n",
       "      <td>2023-03-29</td>\n",
       "      <td>98.690002</td>\n",
       "      <td>100.419998</td>\n",
       "      <td>98.559998</td>\n",
       "      <td>100.250000</td>\n",
       "      <td>100.250000</td>\n",
       "      <td>49783300</td>\n",
       "    </tr>\n",
       "    <tr>\n",
       "      <th>247</th>\n",
       "      <td>2023-03-30</td>\n",
       "      <td>101.550003</td>\n",
       "      <td>103.040001</td>\n",
       "      <td>101.010002</td>\n",
       "      <td>102.000000</td>\n",
       "      <td>102.000000</td>\n",
       "      <td>53633400</td>\n",
       "    </tr>\n",
       "    <tr>\n",
       "      <th>248</th>\n",
       "      <td>2023-03-31</td>\n",
       "      <td>102.160004</td>\n",
       "      <td>103.489998</td>\n",
       "      <td>101.949997</td>\n",
       "      <td>103.290001</td>\n",
       "      <td>103.290001</td>\n",
       "      <td>56704300</td>\n",
       "    </tr>\n",
       "    <tr>\n",
       "      <th>249</th>\n",
       "      <td>2023-04-03</td>\n",
       "      <td>102.300003</td>\n",
       "      <td>103.290001</td>\n",
       "      <td>101.430000</td>\n",
       "      <td>102.410004</td>\n",
       "      <td>102.410004</td>\n",
       "      <td>41135700</td>\n",
       "    </tr>\n",
       "    <tr>\n",
       "      <th>250</th>\n",
       "      <td>2023-04-04</td>\n",
       "      <td>102.750000</td>\n",
       "      <td>104.199997</td>\n",
       "      <td>102.110001</td>\n",
       "      <td>103.949997</td>\n",
       "      <td>103.949997</td>\n",
       "      <td>48599900</td>\n",
       "    </tr>\n",
       "  </tbody>\n",
       "</table>\n",
       "<p>251 rows × 7 columns</p>\n",
       "</div>"
      ],
      "text/plain": [
       "           Date        Open        High         Low       Close   Adj Close  \\\n",
       "0    2022-04-05  167.741501  168.110504  163.266006  164.054993  164.054993   \n",
       "1    2022-04-06  161.650497  162.199997  157.254501  158.755997  158.755997   \n",
       "2    2022-04-07  158.399994  160.078995  154.511505  157.784500  157.784500   \n",
       "3    2022-04-08  156.750000  157.368500  154.231003  154.460495  154.460495   \n",
       "4    2022-04-11  152.712997  154.136505  150.534500  151.121994  151.121994   \n",
       "..          ...         ...         ...         ...         ...         ...   \n",
       "246  2023-03-29   98.690002  100.419998   98.559998  100.250000  100.250000   \n",
       "247  2023-03-30  101.550003  103.040001  101.010002  102.000000  102.000000   \n",
       "248  2023-03-31  102.160004  103.489998  101.949997  103.290001  103.290001   \n",
       "249  2023-04-03  102.300003  103.290001  101.430000  102.410004  102.410004   \n",
       "250  2023-04-04  102.750000  104.199997  102.110001  103.949997  103.949997   \n",
       "\n",
       "       Volume  \n",
       "0    53728000  \n",
       "1    79056000  \n",
       "2    68136000  \n",
       "3    46002000  \n",
       "4    52112000  \n",
       "..        ...  \n",
       "246  49783300  \n",
       "247  53633400  \n",
       "248  56704300  \n",
       "249  41135700  \n",
       "250  48599900  \n",
       "\n",
       "[251 rows x 7 columns]"
      ]
     },
     "execution_count": 8,
     "metadata": {},
     "output_type": "execute_result"
    }
   ],
   "source": [
    "df_stock.dropna(axis=1, how='all')"
   ]
  },
  {
   "cell_type": "markdown",
   "metadata": {},
   "source": [
    "#### Show First Few Columns"
   ]
  },
  {
   "cell_type": "code",
   "execution_count": 9,
   "metadata": {},
   "outputs": [
    {
     "data": {
      "text/html": [
       "<div>\n",
       "<style scoped>\n",
       "    .dataframe tbody tr th:only-of-type {\n",
       "        vertical-align: middle;\n",
       "    }\n",
       "\n",
       "    .dataframe tbody tr th {\n",
       "        vertical-align: top;\n",
       "    }\n",
       "\n",
       "    .dataframe thead th {\n",
       "        text-align: right;\n",
       "    }\n",
       "</style>\n",
       "<table border=\"1\" class=\"dataframe\">\n",
       "  <thead>\n",
       "    <tr style=\"text-align: right;\">\n",
       "      <th></th>\n",
       "      <th>Date</th>\n",
       "      <th>Open</th>\n",
       "      <th>High</th>\n",
       "      <th>Low</th>\n",
       "      <th>Close</th>\n",
       "      <th>Adj Close</th>\n",
       "      <th>Volume</th>\n",
       "    </tr>\n",
       "  </thead>\n",
       "  <tbody>\n",
       "    <tr>\n",
       "      <th>0</th>\n",
       "      <td>2022-04-05</td>\n",
       "      <td>167.741501</td>\n",
       "      <td>168.110504</td>\n",
       "      <td>163.266006</td>\n",
       "      <td>164.054993</td>\n",
       "      <td>164.054993</td>\n",
       "      <td>53728000</td>\n",
       "    </tr>\n",
       "    <tr>\n",
       "      <th>1</th>\n",
       "      <td>2022-04-06</td>\n",
       "      <td>161.650497</td>\n",
       "      <td>162.199997</td>\n",
       "      <td>157.254501</td>\n",
       "      <td>158.755997</td>\n",
       "      <td>158.755997</td>\n",
       "      <td>79056000</td>\n",
       "    </tr>\n",
       "    <tr>\n",
       "      <th>2</th>\n",
       "      <td>2022-04-07</td>\n",
       "      <td>158.399994</td>\n",
       "      <td>160.078995</td>\n",
       "      <td>154.511505</td>\n",
       "      <td>157.784500</td>\n",
       "      <td>157.784500</td>\n",
       "      <td>68136000</td>\n",
       "    </tr>\n",
       "    <tr>\n",
       "      <th>3</th>\n",
       "      <td>2022-04-08</td>\n",
       "      <td>156.750000</td>\n",
       "      <td>157.368500</td>\n",
       "      <td>154.231003</td>\n",
       "      <td>154.460495</td>\n",
       "      <td>154.460495</td>\n",
       "      <td>46002000</td>\n",
       "    </tr>\n",
       "    <tr>\n",
       "      <th>4</th>\n",
       "      <td>2022-04-11</td>\n",
       "      <td>152.712997</td>\n",
       "      <td>154.136505</td>\n",
       "      <td>150.534500</td>\n",
       "      <td>151.121994</td>\n",
       "      <td>151.121994</td>\n",
       "      <td>52112000</td>\n",
       "    </tr>\n",
       "  </tbody>\n",
       "</table>\n",
       "</div>"
      ],
      "text/plain": [
       "         Date        Open        High         Low       Close   Adj Close  \\\n",
       "0  2022-04-05  167.741501  168.110504  163.266006  164.054993  164.054993   \n",
       "1  2022-04-06  161.650497  162.199997  157.254501  158.755997  158.755997   \n",
       "2  2022-04-07  158.399994  160.078995  154.511505  157.784500  157.784500   \n",
       "3  2022-04-08  156.750000  157.368500  154.231003  154.460495  154.460495   \n",
       "4  2022-04-11  152.712997  154.136505  150.534500  151.121994  151.121994   \n",
       "\n",
       "     Volume  \n",
       "0  53728000  \n",
       "1  79056000  \n",
       "2  68136000  \n",
       "3  46002000  \n",
       "4  52112000  "
      ]
     },
     "execution_count": 9,
     "metadata": {},
     "output_type": "execute_result"
    }
   ],
   "source": [
    "df_stock.head()"
   ]
  },
  {
   "cell_type": "markdown",
   "metadata": {},
   "source": [
    "#### Show Last Few Columns"
   ]
  },
  {
   "cell_type": "code",
   "execution_count": 10,
   "metadata": {},
   "outputs": [
    {
     "data": {
      "text/html": [
       "<div>\n",
       "<style scoped>\n",
       "    .dataframe tbody tr th:only-of-type {\n",
       "        vertical-align: middle;\n",
       "    }\n",
       "\n",
       "    .dataframe tbody tr th {\n",
       "        vertical-align: top;\n",
       "    }\n",
       "\n",
       "    .dataframe thead th {\n",
       "        text-align: right;\n",
       "    }\n",
       "</style>\n",
       "<table border=\"1\" class=\"dataframe\">\n",
       "  <thead>\n",
       "    <tr style=\"text-align: right;\">\n",
       "      <th></th>\n",
       "      <th>Date</th>\n",
       "      <th>Open</th>\n",
       "      <th>High</th>\n",
       "      <th>Low</th>\n",
       "      <th>Close</th>\n",
       "      <th>Adj Close</th>\n",
       "      <th>Volume</th>\n",
       "    </tr>\n",
       "  </thead>\n",
       "  <tbody>\n",
       "    <tr>\n",
       "      <th>246</th>\n",
       "      <td>2023-03-29</td>\n",
       "      <td>98.690002</td>\n",
       "      <td>100.419998</td>\n",
       "      <td>98.559998</td>\n",
       "      <td>100.250000</td>\n",
       "      <td>100.250000</td>\n",
       "      <td>49783300</td>\n",
       "    </tr>\n",
       "    <tr>\n",
       "      <th>247</th>\n",
       "      <td>2023-03-30</td>\n",
       "      <td>101.550003</td>\n",
       "      <td>103.040001</td>\n",
       "      <td>101.010002</td>\n",
       "      <td>102.000000</td>\n",
       "      <td>102.000000</td>\n",
       "      <td>53633400</td>\n",
       "    </tr>\n",
       "    <tr>\n",
       "      <th>248</th>\n",
       "      <td>2023-03-31</td>\n",
       "      <td>102.160004</td>\n",
       "      <td>103.489998</td>\n",
       "      <td>101.949997</td>\n",
       "      <td>103.290001</td>\n",
       "      <td>103.290001</td>\n",
       "      <td>56704300</td>\n",
       "    </tr>\n",
       "    <tr>\n",
       "      <th>249</th>\n",
       "      <td>2023-04-03</td>\n",
       "      <td>102.300003</td>\n",
       "      <td>103.290001</td>\n",
       "      <td>101.430000</td>\n",
       "      <td>102.410004</td>\n",
       "      <td>102.410004</td>\n",
       "      <td>41135700</td>\n",
       "    </tr>\n",
       "    <tr>\n",
       "      <th>250</th>\n",
       "      <td>2023-04-04</td>\n",
       "      <td>102.750000</td>\n",
       "      <td>104.199997</td>\n",
       "      <td>102.110001</td>\n",
       "      <td>103.949997</td>\n",
       "      <td>103.949997</td>\n",
       "      <td>48599900</td>\n",
       "    </tr>\n",
       "  </tbody>\n",
       "</table>\n",
       "</div>"
      ],
      "text/plain": [
       "           Date        Open        High         Low       Close   Adj Close  \\\n",
       "246  2023-03-29   98.690002  100.419998   98.559998  100.250000  100.250000   \n",
       "247  2023-03-30  101.550003  103.040001  101.010002  102.000000  102.000000   \n",
       "248  2023-03-31  102.160004  103.489998  101.949997  103.290001  103.290001   \n",
       "249  2023-04-03  102.300003  103.290001  101.430000  102.410004  102.410004   \n",
       "250  2023-04-04  102.750000  104.199997  102.110001  103.949997  103.949997   \n",
       "\n",
       "       Volume  \n",
       "246  49783300  \n",
       "247  53633400  \n",
       "248  56704300  \n",
       "249  41135700  \n",
       "250  48599900  "
      ]
     },
     "execution_count": 10,
     "metadata": {},
     "output_type": "execute_result"
    }
   ],
   "source": [
    "df_stock.tail()"
   ]
  },
  {
   "cell_type": "markdown",
   "metadata": {},
   "source": [
    "#### Get Statistics"
   ]
  },
  {
   "cell_type": "code",
   "execution_count": 13,
   "metadata": {},
   "outputs": [
    {
     "data": {
      "text/html": [
       "<div>\n",
       "<style scoped>\n",
       "    .dataframe tbody tr th:only-of-type {\n",
       "        vertical-align: middle;\n",
       "    }\n",
       "\n",
       "    .dataframe tbody tr th {\n",
       "        vertical-align: top;\n",
       "    }\n",
       "\n",
       "    .dataframe thead th {\n",
       "        text-align: right;\n",
       "    }\n",
       "</style>\n",
       "<table border=\"1\" class=\"dataframe\">\n",
       "  <thead>\n",
       "    <tr style=\"text-align: right;\">\n",
       "      <th></th>\n",
       "      <th>Open</th>\n",
       "      <th>High</th>\n",
       "      <th>Low</th>\n",
       "      <th>Close</th>\n",
       "      <th>Adj Close</th>\n",
       "      <th>Volume</th>\n",
       "    </tr>\n",
       "  </thead>\n",
       "  <tbody>\n",
       "    <tr>\n",
       "      <th>count</th>\n",
       "      <td>251.000000</td>\n",
       "      <td>251.000000</td>\n",
       "      <td>251.000000</td>\n",
       "      <td>251.000000</td>\n",
       "      <td>251.000000</td>\n",
       "      <td>2.510000e+02</td>\n",
       "    </tr>\n",
       "    <tr>\n",
       "      <th>mean</th>\n",
       "      <td>111.365902</td>\n",
       "      <td>113.288974</td>\n",
       "      <td>109.302391</td>\n",
       "      <td>111.296480</td>\n",
       "      <td>111.296480</td>\n",
       "      <td>7.359801e+07</td>\n",
       "    </tr>\n",
       "    <tr>\n",
       "      <th>std</th>\n",
       "      <td>18.733620</td>\n",
       "      <td>18.903238</td>\n",
       "      <td>18.390732</td>\n",
       "      <td>18.546574</td>\n",
       "      <td>18.546574</td>\n",
       "      <td>3.059969e+07</td>\n",
       "    </tr>\n",
       "    <tr>\n",
       "      <th>min</th>\n",
       "      <td>82.800003</td>\n",
       "      <td>83.480003</td>\n",
       "      <td>81.430000</td>\n",
       "      <td>81.820000</td>\n",
       "      <td>81.820000</td>\n",
       "      <td>3.508860e+07</td>\n",
       "    </tr>\n",
       "    <tr>\n",
       "      <th>25%</th>\n",
       "      <td>96.035000</td>\n",
       "      <td>97.544998</td>\n",
       "      <td>94.195000</td>\n",
       "      <td>96.259998</td>\n",
       "      <td>96.259998</td>\n",
       "      <td>5.405360e+07</td>\n",
       "    </tr>\n",
       "    <tr>\n",
       "      <th>50%</th>\n",
       "      <td>108.199997</td>\n",
       "      <td>112.129997</td>\n",
       "      <td>106.320000</td>\n",
       "      <td>108.859001</td>\n",
       "      <td>108.859001</td>\n",
       "      <td>6.560740e+07</td>\n",
       "    </tr>\n",
       "    <tr>\n",
       "      <th>75%</th>\n",
       "      <td>122.549999</td>\n",
       "      <td>124.250000</td>\n",
       "      <td>120.333748</td>\n",
       "      <td>122.384998</td>\n",
       "      <td>122.384998</td>\n",
       "      <td>8.392465e+07</td>\n",
       "    </tr>\n",
       "    <tr>\n",
       "      <th>max</th>\n",
       "      <td>167.741501</td>\n",
       "      <td>168.110504</td>\n",
       "      <td>163.266006</td>\n",
       "      <td>164.054993</td>\n",
       "      <td>164.054993</td>\n",
       "      <td>2.726620e+08</td>\n",
       "    </tr>\n",
       "  </tbody>\n",
       "</table>\n",
       "</div>"
      ],
      "text/plain": [
       "             Open        High         Low       Close   Adj Close  \\\n",
       "count  251.000000  251.000000  251.000000  251.000000  251.000000   \n",
       "mean   111.365902  113.288974  109.302391  111.296480  111.296480   \n",
       "std     18.733620   18.903238   18.390732   18.546574   18.546574   \n",
       "min     82.800003   83.480003   81.430000   81.820000   81.820000   \n",
       "25%     96.035000   97.544998   94.195000   96.259998   96.259998   \n",
       "50%    108.199997  112.129997  106.320000  108.859001  108.859001   \n",
       "75%    122.549999  124.250000  120.333748  122.384998  122.384998   \n",
       "max    167.741501  168.110504  163.266006  164.054993  164.054993   \n",
       "\n",
       "             Volume  \n",
       "count  2.510000e+02  \n",
       "mean   7.359801e+07  \n",
       "std    3.059969e+07  \n",
       "min    3.508860e+07  \n",
       "25%    5.405360e+07  \n",
       "50%    6.560740e+07  \n",
       "75%    8.392465e+07  \n",
       "max    2.726620e+08  "
      ]
     },
     "execution_count": 13,
     "metadata": {},
     "output_type": "execute_result"
    }
   ],
   "source": [
    "df_stock.describe()"
   ]
  },
  {
   "attachments": {},
   "cell_type": "markdown",
   "metadata": {},
   "source": [
    "### Trading Strategies"
   ]
  },
  {
   "cell_type": "code",
   "execution_count": 33,
   "metadata": {},
   "outputs": [],
   "source": [
    "df_stock[f\"{Stock}\"] = df_stock[['Open', 'Close']].mean(axis=1)  "
   ]
  },
  {
   "cell_type": "code",
   "execution_count": 23,
   "metadata": {},
   "outputs": [],
   "source": [
    "df_stock['SMA30'] = df_stock['MidClose'].rolling(30).mean()  \n",
    "df_stock['SMA100'] = df_stock['MidClose'].rolling(100).mean()  "
   ]
  },
  {
   "cell_type": "code",
   "execution_count": 34,
   "metadata": {},
   "outputs": [
    {
     "data": {
      "text/plain": [
       "Text(0.5, 0, 'Date')"
      ]
     },
     "execution_count": 34,
     "metadata": {},
     "output_type": "execute_result"
    },
    {
     "data": {
      "image/png": "[encoded data removed]",
      "text/plain": [
       "<Figure size 1000x600 with 1 Axes>"
      ]
     },
     "metadata": {},
     "output_type": "display_data"
    }
   ],
   "source": [
    "df_stock[[f\"{Stock}\", 'SMA30', 'SMA100']].plot(figsize=(10, 6))\n",
    "plt.ylabel(\"Adj Close Price in USD\")\n",
    "plt.xlabel('Date')"
   ]
  },
  {
   "attachments": {},
   "cell_type": "markdown",
   "metadata": {},
   "source": [
    "#### Buy/Sell Function"
   ]
  },
  {
   "attachments": {},
   "cell_type": "markdown",
   "metadata": {},
   "source": [
    "def buy_sell(data):\n",
    "\n",
    "    ...\n",
    "\n",
    "    return (signal_price_buy, signal_price_sell)"
   ]
  }
 ],
 "metadata": {
  "kernelspec": {
   "display_name": "base",
   "language": "python",
   "name": "python3"
  },
  "language_info": {
   "codemirror_mode": {
    "name": "ipython",
    "version": 3
   },
   "file_extension": ".py",
   "mimetype": "text/x-python",
   "name": "python",
   "nbconvert_exporter": "python",
   "pygments_lexer": "ipython3",
   "version": "3.9.13"
  },
  "orig_nbformat": 4
 },
 "nbformat": 4,
 "nbformat_minor": 2
}
